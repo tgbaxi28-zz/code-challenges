{
 "cells": [
  {
   "cell_type": "markdown",
   "metadata": {},
   "source": [
    "## Problem Statement - 3\n",
    "\n",
    "## Given an array of integers, find the first missing positive integer in linear time and constant space. In other words, find the lowest positive integer that does not exist in the array. The array can contain duplicates and negative numbers as well.\n",
    "\n",
    "## For example, the input [3, 4, -1, 1] should give 2. The input [1, 2, 0] should give 3. "
   ]
  },
  {
   "cell_type": "code",
   "execution_count": 38,
   "metadata": {},
   "outputs": [
    {
     "name": "stdout",
     "output_type": "stream",
     "text": [
      "3 is lowest missing positive from the sequence\n"
     ]
    }
   ],
   "source": [
    "lst = [1, 2, 0]\n",
    "\n",
    "#remove duplicates so that operation on list becomes easy\n",
    "nonDuplicateLst = set(lst)\n",
    "\n",
    "#conver set to list again so we can iterate and find the lowest possible\n",
    "numbers = list(nonDuplicateLst)\n",
    "\n",
    "resultStmt = \"{} is lowest missing positive from the sequence\"\n",
    "\n",
    "for index in range(0, len(numbers)):\n",
    "    possibleNext = numbers[index] + 1\n",
    "    actualNext = numbers[index+1] if index + 1 < len(numbers) else numbers[index]\n",
    "    if (possibleNext != actualNext) and (possibleNext > 0):\n",
    "        print(resultStmt.format(possibleNext))\n",
    "        break"
   ]
  },
  {
   "cell_type": "code",
   "execution_count": null,
   "metadata": {},
   "outputs": [],
   "source": []
  }
 ],
 "metadata": {
  "kernelspec": {
   "display_name": "Python 3",
   "language": "python",
   "name": "python3"
  },
  "language_info": {
   "codemirror_mode": {
    "name": "ipython",
    "version": 3
   },
   "file_extension": ".py",
   "mimetype": "text/x-python",
   "name": "python",
   "nbconvert_exporter": "python",
   "pygments_lexer": "ipython3",
   "version": "3.7.5"
  }
 },
 "nbformat": 4,
 "nbformat_minor": 2
}
