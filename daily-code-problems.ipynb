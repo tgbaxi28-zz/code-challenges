{
 "cells": [
  {
   "cell_type": "markdown",
   "metadata": {},
   "source": [
    "## Problem Statement - 1\n",
    "\n",
    "## Given a list of numbers and a number k, return whether any two numbers from the list add up to k.\n",
    "\n",
    "## For example, given [10, 15, 3, 7] and k of 17 then it must find the pair ie (10, 7) or (7,10)."
   ]
  },
  {
   "cell_type": "code",
   "execution_count": 102,
   "metadata": {},
   "outputs": [
    {
     "name": "stdout",
     "output_type": "stream",
     "text": [
      "The summation of the pairs {'(5, 5)', '(8, 2)', '(9, 1)', '(6, 4)', '(7, 3)'} calculates to 10\n"
     ]
    }
   ],
   "source": [
    "numbers = [1, 9, 2, 8, 3, 7, 4, 6, 5, 5, 65, 18, 98, 17] \n",
    "numberToFind = 10\n",
    "numbers.sort()\n",
    "\n",
    "# Create an empty hash set\n",
    "s = set()\n",
    "\n",
    "# Create an output hase set to add the pairs\n",
    "pairs = set() \n",
    "\n",
    "pairStmt = \"({}, {})\"\n",
    "  \n",
    "for i in range(0, len(numbers)): \n",
    "    temp = numberToFind - numbers[i] \n",
    "    if (temp in s):\n",
    "        pairs.add(pairStmt.format(str(numbers[i]), str(temp)))\n",
    "    s.add(numbers[i])\n",
    "\n",
    "formattedOutput = \"The summation of the pairs {} calculates to {}\"    \n",
    "    \n",
    "print(formattedOutput.format(pairs, str(numberToFind)))"
   ]
  },
  {
   "cell_type": "markdown",
   "metadata": {},
   "source": [
    "## Problem Statement - 2\n",
    "\n",
    "## Given an array of integers, return a new array such that each element at index i of the new array is the product of all the numbers in the original array except the one at i.\n",
    "\n",
    "## For example, if our input was [1, 2, 3, 4, 5], the expected output would be [120, 60, 40, 30, 24]. If our input was [3, 2, 1], the expected output would be [2, 3, 6]"
   ]
  },
  {
   "cell_type": "code",
   "execution_count": 101,
   "metadata": {},
   "outputs": [
    {
     "name": "stdout",
     "output_type": "stream",
     "text": [
      "Index value 0\n",
      "[6, 7, 8]\n",
      "Index value 1\n",
      "[5, 7, 8]\n",
      "Index value 2\n",
      "[5, 6, 8]\n",
      "Index value 3\n",
      "[5, 6, 7]\n",
      "[336, 280, 240, 210]\n"
     ]
    }
   ],
   "source": [
    "import numpy as np\n",
    "numbers = [5, 6, 7, 8]\n",
    "\n",
    "# Empty result list\n",
    "result = list()\n",
    "\n",
    "for i in range (0, len(numbers)):\n",
    "    print(\"Index value {}\".format(i))\n",
    "    temp = list()\n",
    "    if i == 0:\n",
    "        temp = numbers[i+1:len(numbers)]\n",
    "        print(temp)\n",
    "    elif i == 1:\n",
    "        temp = [numbers[0]]\n",
    "        temp.extend(numbers[i+1:len(numbers)])\n",
    "        print(temp)\n",
    "    else:\n",
    "        temp = numbers[0:i]\n",
    "        temp.extend(numbers[i+1:len(numbers)])\n",
    "        print(temp)\n",
    "    \n",
    "    result.append(np.product(temp))\n",
    "    \n",
    "print(result)"
   ]
  },
  {
   "cell_type": "code",
   "execution_count": null,
   "metadata": {},
   "outputs": [],
   "source": []
  }
 ],
 "metadata": {
  "kernelspec": {
   "display_name": "Python 3",
   "language": "python",
   "name": "python3"
  },
  "language_info": {
   "codemirror_mode": {
    "name": "ipython",
    "version": 3
   },
   "file_extension": ".py",
   "mimetype": "text/x-python",
   "name": "python",
   "nbconvert_exporter": "python",
   "pygments_lexer": "ipython3",
   "version": "3.7.5"
  }
 },
 "nbformat": 4,
 "nbformat_minor": 2
}
